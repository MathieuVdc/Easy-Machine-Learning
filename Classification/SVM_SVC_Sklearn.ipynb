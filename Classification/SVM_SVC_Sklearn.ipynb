{
 "cells": [
  {
   "cell_type": "markdown",
   "metadata": {},
   "source": [
    "# Support Vector Machines - SVC() Scikit-Learn - Classification"
   ]
  },
  {
   "cell_type": "markdown",
   "metadata": {},
   "source": [
    "### Mathieu Vandecasteele - https://mathieuvdc.com/"
   ]
  },
  {
   "cell_type": "code",
   "execution_count": null,
   "metadata": {},
   "outputs": [],
   "source": [
    "# Useful Imports\n",
    "import numpy as np\n",
    "import matplotlib.pyplot as plt\n",
    "import pandas as pd\n",
    "import seaborn as sns\n",
    "import time\n",
    "from sklearn.preprocessing import StandardScaler\n",
    "from sklearn.model_selection import train_test_split, GridSearchCV\n",
    "from sklearn.metrics import classification_report, confusion_matrix\n",
    "from sklearn.svm import SVC\n",
    "from sklearn.datasets import load_digits"
   ]
  },
  {
   "cell_type": "code",
   "execution_count": null,
   "metadata": {},
   "outputs": [],
   "source": [
    "# Loading the Data and optional pre-processing. You need to have your X and your y. It is recommended to process some descriptive statistics before training.\n",
    "# X =\n",
    "# y =\n",
    "print(\"Shape of X is \"+str(X.shape))\n",
    "print(\"Shape of y is \"+str(y.shape))"
   ]
  },
  {
   "cell_type": "code",
   "execution_count": null,
   "metadata": {},
   "outputs": [],
   "source": [
    "# Split the Data\n",
    "test_size = 0.20\n",
    "random_state = 42\n",
    "X_train, X_test, y_train, y_test = train_test_split(X, y, test_size=test_size, random_state=random_state)\n",
    "print(\"Spliting...\")\n",
    "print(\"Test ratio : \"+str(test_size))\n",
    "print(\"\\nShape of Train dataset is \"+str(X_train.shape))\n",
    "print(\"Shape of Test dataset is \"+str(X_test.shape))"
   ]
  },
  {
   "cell_type": "code",
   "execution_count": null,
   "metadata": {},
   "outputs": [],
   "source": [
    "# Standardization\n",
    "# Set to True or False to standardize the data.\n",
    "standardize = True\n",
    "\n",
    "if standardize :\n",
    "    print(\"\\nStandardization ...\")\n",
    "    scaler = StandardScaler().fit(X_train)                                \n",
    "    X_train = scaler.transform(X_train)                           \n",
    "    X_test = scaler.transform(X_test)       "
   ]
  },
  {
   "cell_type": "code",
   "execution_count": null,
   "metadata": {},
   "outputs": [],
   "source": [
    "# First Simple Training\n",
    "\n",
    "print(\"\\nPerform First Simple Training...\\n\")\n",
    "svc = SVC(gamma=\"scale\")\n",
    "print(svc)\n",
    "\n",
    "time1 = time.time()\n",
    "svc.fit(X_train, y_train)\n",
    "elapsed = time.time() - time1\n",
    "print(\"\\nDone ! Time for training : \"+str(elapsed)+\" seconds.\\n\") \n",
    "\n",
    "# Simple Training Report\n",
    "score = svc.score(X_test, y_test)\n",
    "print(\"Precision/Score on Test Dataset : \"+str(score)+\"\\n\")\n",
    "\n",
    "y_pred = svc.predict(X_test)\n",
    "print(\"Classification Report on Test Dataset (y_pred/y_test) :\\n\")\n",
    "print(classification_report(y_pred, y_test))\n",
    "print(\"Confusion Matrix on Test Dataset (y_pred/y_test) :\\n\")\n",
    "print(confusion_matrix(y_pred, y_test))"
   ]
  },
  {
   "cell_type": "code",
   "execution_count": null,
   "metadata": {},
   "outputs": [],
   "source": [
    "# Tuning parameters with GridSearch and Cross-Validation \n",
    "\n",
    "print(\"Perform GridSearchCV and tuning parameters... \\n\")\n",
    "\n",
    "# Personalization of the parameters : \n",
    "parameters = {'kernel':('rbf','linear'), 'C':[0.1,1,2,5,7,8,9,10,12,20]}\n",
    "cv_number = 5\n",
    "# Set to -1 for using all the processors.\n",
    "njobs = -1\n",
    "\n",
    "svc = SVC(gamma=\"scale\")\n",
    "clf = GridSearchCV(svc, parameters, cv=cv_number, n_jobs=njobs, return_train_score=True)\n",
    "print(clf)\n",
    "\n",
    "time2 = time.time()\n",
    "clf.fit(X_train,y_train)\n",
    "elapsed2 = time.time() - time2\n",
    "print(\"\\nDone ! Time elapsed for tuning parameters : \"+str(elapsed2)+\" seconds.\\n\") \n",
    "\n",
    "\n",
    "# GridSearchCV Report\n",
    "\n",
    "print(\"Best validation score : \"+str(clf.best_score_))\n",
    "\n",
    "print(\"\\nBest parameters : \")\n",
    "best_parameters = clf.best_estimator_.get_params()\n",
    "for param_name in sorted(parameters.keys()):\n",
    "    print(\"\\t%s: %r\" % (param_name, best_parameters[param_name]))\n",
    "\n",
    "score = clf.score(X_test, y_test)\n",
    "print(\"\\nPrecision/Score on Test Dataset : \"+str(score)+\"\\n\")\n",
    "\n",
    "y_pred = clf.predict(X_test)\n",
    "print(\"Classification Report on Test Dataset (y_pred/y_test) :\\n\")\n",
    "print(classification_report(y_pred, y_test))\n",
    "print(\"Confusion Matrix on Test Dataset (y_pred/y_test) :\\n\")\n",
    "print(confusion_matrix(y_pred, y_test))\n",
    "print(\"\\nAverage training time for one model :\") \n",
    "print(str(np.mean(clf.cv_results_['mean_fit_time']))+\" seconds.\")\n",
    "\n",
    "\n",
    "# All results (\"Set to True to see all results forom GridSearchCV\")\n",
    "display_gridsearch_details = False\n",
    "\n",
    "if display_gridsearch_details :\n",
    "    print('All results :')\n",
    "    means = clf.cv_results_['mean_test_score']\n",
    "    stds = clf.cv_results_['std_test_score']\n",
    "    for mean, std, params in zip(means, stds, clf.cv_results_['params']):\n",
    "        print(\"%0.3f (+/-%0.03f) for %r\" % (mean, std * 2, params))\n",
    "    print('')"
   ]
  },
  {
   "cell_type": "code",
   "execution_count": null,
   "metadata": {},
   "outputs": [],
   "source": [
    "# Last Final Training\n",
    "\n",
    "print(\"Perform Last Final Training...\\n\")\n",
    "\n",
    "# For parameters you can directly unpack the best params dictionary of the GridSearchCV classifier or write it manually.\n",
    "svc = SVC(gamma='scale', **clf.best_params_)\n",
    "print(svc)\n",
    "\n",
    "time3 = time.time()\n",
    "svc.fit(X_train, y_train)\n",
    "elapsed3 = time.time() - time3\n",
    "print(\"Done ! Time for training : \"+str(elapsed3)+\" seconds.\\n\") \n",
    "\n",
    "# Last Training Report\n",
    "score = svc.score(X_test, y_test)\n",
    "print(\"Precision/Score on Test Dataset : \"+str(score)+\"\\n\")\n",
    "\n",
    "y_pred = svc.predict(X_test)\n",
    "print(\"Classification Report on Test Dataset (y_pred/y_test) :\\n\")\n",
    "print(classification_report(y_pred, y_test))\n",
    "print(\"Confusion Matrix on Test Dataset (y_pred/y_test) :\\n\")\n",
    "print(confusion_matrix(y_pred, y_test))"
   ]
  },
  {
   "cell_type": "markdown",
   "metadata": {},
   "source": [
    "Finished !"
   ]
  },
  {
   "cell_type": "markdown",
   "metadata": {},
   "source": [
    "You can use the gridsearch classifier to plot curves if you want..."
   ]
  }
 ],
 "metadata": {
  "kernelspec": {
   "display_name": "Python 3",
   "language": "python",
   "name": "python3"
  },
  "language_info": {
   "codemirror_mode": {
    "name": "ipython",
    "version": 3
   },
   "file_extension": ".py",
   "mimetype": "text/x-python",
   "name": "python",
   "nbconvert_exporter": "python",
   "pygments_lexer": "ipython3",
   "version": "3.6.8"
  }
 },
 "nbformat": 4,
 "nbformat_minor": 2
}
